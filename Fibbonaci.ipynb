{
 "cells": [
  {
   "cell_type": "code",
   "execution_count": 5,
   "id": "f5749fe0-18e2-40a7-8a9f-c98c06a227b3",
   "metadata": {},
   "outputs": [
    {
     "name": "stdin",
     "output_type": "stream",
     "text": [
      "Enter the number till which fibbonacci series should run:  100\n"
     ]
    },
    {
     "name": "stdout",
     "output_type": "stream",
     "text": [
      "0\n",
      "1\n",
      "1\n",
      "2\n",
      "3\n",
      "5\n",
      "8\n",
      "13\n",
      "21\n",
      "34\n",
      "55\n",
      "89\n"
     ]
    }
   ],
   "source": [
    "#0 1 1 2 3 5 8 13 21 34\n",
    "num = int(input(\"Enter the number till which fibbonacci series should run: \"))\n",
    "curr = 1\n",
    "prev = 0\n",
    "fib = 0\n",
    "print(prev)\n",
    "print(curr)\n",
    "while (fib<num):\n",
    "    fib = prev+curr\n",
    "    prev = curr\n",
    "    curr = fib\n",
    "    if (fib <num):\n",
    "        print(fib)\n"
   ]
  },
  {
   "cell_type": "code",
   "execution_count": 2,
   "id": "144431fe-25ab-4bdc-8f7a-26349c0df57b",
   "metadata": {},
   "outputs": [
    {
     "name": "stdin",
     "output_type": "stream",
     "text": [
      "Enter the number till which fibbonacci series should run:  1000\n"
     ]
    },
    {
     "name": "stdout",
     "output_type": "stream",
     "text": [
      "0\n",
      "1\n",
      "1\n",
      "2\n",
      "3\n",
      "5\n",
      "8\n",
      "13\n",
      "21\n",
      "34\n",
      "55\n",
      "89\n",
      "144\n",
      "233\n",
      "377\n",
      "610\n",
      "987\n"
     ]
    }
   ],
   "source": [
    "class Fibonacci:\n",
    "    def __init__(self,num):\n",
    "        self.num = num\n",
    "    def FindFib(self):\n",
    "        curr = 1\n",
    "        prev = 0\n",
    "        fib = 0\n",
    "        print(prev)\n",
    "        print(curr)\n",
    "        while (fib<num):\n",
    "            fib = prev+curr\n",
    "            prev = curr\n",
    "            curr = fib\n",
    "            if (fib <num):\n",
    "                print(fib)\n",
    "\n",
    "        \n",
    "        \n",
    "num = int(input(\"Enter the number till which fibbonacci series should run: \"))\n",
    "fib1 = Fibonacci(num)\n",
    "fib1.FindFib()"
   ]
  },
  {
   "cell_type": "code",
   "execution_count": null,
   "id": "77dfde50-d613-4e07-95db-718ff56379ed",
   "metadata": {},
   "outputs": [],
   "source": []
  }
 ],
 "metadata": {
  "kernelspec": {
   "display_name": "Python 3 (ipykernel)",
   "language": "python",
   "name": "python3"
  },
  "language_info": {
   "codemirror_mode": {
    "name": "ipython",
    "version": 3
   },
   "file_extension": ".py",
   "mimetype": "text/x-python",
   "name": "python",
   "nbconvert_exporter": "python",
   "pygments_lexer": "ipython3",
   "version": "3.9.12"
  }
 },
 "nbformat": 4,
 "nbformat_minor": 5
}
