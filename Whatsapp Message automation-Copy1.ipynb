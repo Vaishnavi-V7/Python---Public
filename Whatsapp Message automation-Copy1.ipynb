{
 "cells": [
  {
   "cell_type": "code",
   "execution_count": 1,
   "id": "992a2742-23fa-4ed2-b86d-9631b97e2741",
   "metadata": {},
   "outputs": [
    {
     "name": "stdout",
     "output_type": "stream",
     "text": [
      "Requirement already satisfied: pywhatkit in c:\\users\\vaishnavi\\anaconda3\\lib\\site-packages (5.4)\n",
      "Requirement already satisfied: requests in c:\\users\\vaishnavi\\anaconda3\\lib\\site-packages (from pywhatkit) (2.27.1)\n",
      "Requirement already satisfied: Flask in c:\\users\\vaishnavi\\anaconda3\\lib\\site-packages (from pywhatkit) (1.1.2)\n",
      "Requirement already satisfied: pyautogui in c:\\users\\vaishnavi\\anaconda3\\lib\\site-packages (from pywhatkit) (0.9.53)\n",
      "Requirement already satisfied: wikipedia in c:\\users\\vaishnavi\\anaconda3\\lib\\site-packages (from pywhatkit) (1.4.0)\n",
      "Requirement already satisfied: Pillow in c:\\users\\vaishnavi\\anaconda3\\lib\\site-packages (from pywhatkit) (9.0.1)\n",
      "Requirement already satisfied: Jinja2>=2.10.1 in c:\\users\\vaishnavi\\anaconda3\\lib\\site-packages (from Flask->pywhatkit) (2.11.3)\n",
      "Requirement already satisfied: itsdangerous>=0.24 in c:\\users\\vaishnavi\\anaconda3\\lib\\site-packages (from Flask->pywhatkit) (2.0.1)\n",
      "Requirement already satisfied: Werkzeug>=0.15 in c:\\users\\vaishnavi\\anaconda3\\lib\\site-packages (from Flask->pywhatkit) (2.0.3)\n",
      "Requirement already satisfied: click>=5.1 in c:\\users\\vaishnavi\\anaconda3\\lib\\site-packages (from Flask->pywhatkit) (8.0.4)\n",
      "Requirement already satisfied: colorama in c:\\users\\vaishnavi\\anaconda3\\lib\\site-packages (from click>=5.1->Flask->pywhatkit) (0.4.4)\n",
      "Requirement already satisfied: MarkupSafe>=0.23 in c:\\users\\vaishnavi\\anaconda3\\lib\\site-packages (from Jinja2>=2.10.1->Flask->pywhatkit) (2.0.1)\n",
      "Requirement already satisfied: pygetwindow>=0.0.5 in c:\\users\\vaishnavi\\anaconda3\\lib\\site-packages (from pyautogui->pywhatkit) (0.0.9)\n",
      "Requirement already satisfied: pyscreeze>=0.1.21 in c:\\users\\vaishnavi\\anaconda3\\lib\\site-packages (from pyautogui->pywhatkit) (0.1.28)\n",
      "Requirement already satisfied: mouseinfo in c:\\users\\vaishnavi\\anaconda3\\lib\\site-packages (from pyautogui->pywhatkit) (0.1.3)\n",
      "Requirement already satisfied: PyTweening>=1.0.1 in c:\\users\\vaishnavi\\anaconda3\\lib\\site-packages (from pyautogui->pywhatkit) (1.0.4)\n",
      "Requirement already satisfied: pymsgbox in c:\\users\\vaishnavi\\anaconda3\\lib\\site-packages (from pyautogui->pywhatkit) (1.0.9)\n",
      "Requirement already satisfied: pyrect in c:\\users\\vaishnavi\\anaconda3\\lib\\site-packages (from pygetwindow>=0.0.5->pyautogui->pywhatkit) (0.2.0)\n",
      "Requirement already satisfied: pyperclip in c:\\users\\vaishnavi\\anaconda3\\lib\\site-packages (from mouseinfo->pyautogui->pywhatkit) (1.8.2)\n",
      "Requirement already satisfied: idna<4,>=2.5 in c:\\users\\vaishnavi\\anaconda3\\lib\\site-packages (from requests->pywhatkit) (3.3)\n",
      "Requirement already satisfied: certifi>=2017.4.17 in c:\\users\\vaishnavi\\anaconda3\\lib\\site-packages (from requests->pywhatkit) (2021.10.8)\n",
      "Requirement already satisfied: urllib3<1.27,>=1.21.1 in c:\\users\\vaishnavi\\anaconda3\\lib\\site-packages (from requests->pywhatkit) (1.26.9)\n",
      "Requirement already satisfied: charset-normalizer~=2.0.0 in c:\\users\\vaishnavi\\anaconda3\\lib\\site-packages (from requests->pywhatkit) (2.0.4)\n",
      "Requirement already satisfied: beautifulsoup4 in c:\\users\\vaishnavi\\anaconda3\\lib\\site-packages (from wikipedia->pywhatkit) (4.11.1)\n",
      "Requirement already satisfied: soupsieve>1.2 in c:\\users\\vaishnavi\\anaconda3\\lib\\site-packages (from beautifulsoup4->wikipedia->pywhatkit) (2.3.1)\n"
     ]
    }
   ],
   "source": [
    "#pywhatkit - it is one of the most popular python library for WhatsApp and YouTube automation.\n",
    "#whatsapp kit installation\n",
    "!pip install pywhatkit"
   ]
  },
  {
   "cell_type": "code",
   "execution_count": 2,
   "id": "052c4d5d-b6a1-4e68-a094-81cd3b8f98fb",
   "metadata": {},
   "outputs": [],
   "source": [
    "#importing pywhatkit\n",
    "import pywhatkit as pwk"
   ]
  },
  {
   "cell_type": "code",
   "execution_count": null,
   "id": "989011f6-4a6d-4950-bf1e-8e8da686eff9",
   "metadata": {},
   "outputs": [],
   "source": [
    "#sendwhatmsg - method of the pywhatkit library\n",
    "'''\n",
    "Syntax -> pywhatkit.sendmsg(“receiver’s mobile number”, “message to be sent”, hours, minutes)\n",
    "'''\n",
    "pwk.sendwhatmsg(\"+91 ##########\",\"Message Test\", 17, 26)"
   ]
  },
  {
   "cell_type": "code",
   "execution_count": 3,
   "id": "5b593ac4-524e-4d8c-b3d0-41664935ecb4",
   "metadata": {},
   "outputs": [
    {
     "name": "stdout",
     "output_type": "stream",
     "text": [
      "In 74 Seconds WhatsApp will open and after 15 Seconds Message will be Delivered!\n",
      "Message sent\n"
     ]
    }
   ],
   "source": [
    "pwk.sendwhatmsg(\"+91 ##########\",\"Hi\", 18, 16)\n",
    "print(\"Message sent\")"
   ]
  },
  {
   "cell_type": "code",
   "execution_count": 10,
   "id": "afcf7de7-0378-4afa-91a1-94ccf59e0573",
   "metadata": {},
   "outputs": [
    {
     "name": "stdout",
     "output_type": "stream",
     "text": [
      "In 21 Seconds WhatsApp will open and after 15 Seconds Message will be Delivered!\n"
     ]
    }
   ],
   "source": [
    "pwk.sendwhatmsg_to_group(\"Group Name\", \"TestMessage\", 18, 22)"
   ]
  },
  {
   "cell_type": "code",
   "execution_count": null,
   "id": "a6544ede-5c35-4bd3-8333-164a9cb37fe7",
   "metadata": {},
   "outputs": [],
   "source": [
    "\n"
   ]
  }
 ],
 "metadata": {
  "kernelspec": {
   "display_name": "Python 3 (ipykernel)",
   "language": "python",
   "name": "python3"
  },
  "language_info": {
   "codemirror_mode": {
    "name": "ipython",
    "version": 3
   },
   "file_extension": ".py",
   "mimetype": "text/x-python",
   "name": "python",
   "nbconvert_exporter": "python",
   "pygments_lexer": "ipython3",
   "version": "3.9.12"
  }
 },
 "nbformat": 4,
 "nbformat_minor": 5
}
